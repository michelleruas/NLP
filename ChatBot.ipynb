{
  "nbformat": 4,
  "nbformat_minor": 0,
  "metadata": {
    "colab": {
      "name": "ChatBot.ipynb",
      "provenance": [],
      "authorship_tag": "ABX9TyNei94tB+rTRnetRYpLTWsz",
      "include_colab_link": true
    },
    "kernelspec": {
      "name": "python3",
      "display_name": "Python 3"
    }
  },
  "cells": [
    {
      "cell_type": "markdown",
      "metadata": {
        "id": "view-in-github",
        "colab_type": "text"
      },
      "source": [
        "<a href=\"https://colab.research.google.com/github/michelleruas/NLP/blob/master/ChatBot.ipynb\" target=\"_parent\"><img src=\"https://colab.research.google.com/assets/colab-badge.svg\" alt=\"Open In Colab\"/></a>"
      ]
    },
    {
      "cell_type": "markdown",
      "metadata": {
        "id": "JgQZ26bi51Cy",
        "colab_type": "text"
      },
      "source": [
        "# Building a chatbot\n",
        "\n",
        "Using rule based approach to build a chat bot"
      ]
    },
    {
      "cell_type": "code",
      "metadata": {
        "id": "aSILnGe45Gsl",
        "colab_type": "code",
        "colab": {}
      },
      "source": [
        "#Import libraries\n",
        "from nltk.chat.util import Chat, reflections"
      ],
      "execution_count": 4,
      "outputs": []
    },
    {
      "cell_type": "code",
      "metadata": {
        "id": "CHNroyU-6Ffq",
        "colab_type": "code",
        "colab": {}
      },
      "source": [
        "#List of patterns and responses\n",
        "pairs = [\n",
        "         ['my name is marlena', ['hi marlena']],\n",
        "         ['my name is nick', ['hi nick']],\n",
        "]"
      ],
      "execution_count": 8,
      "outputs": []
    },
    {
      "cell_type": "code",
      "metadata": {
        "id": "AaL6IvWe6NeZ",
        "colab_type": "code",
        "colab": {
          "base_uri": "https://localhost:8080/",
          "height": 104
        },
        "outputId": "c7ee45e5-cf2d-47de-ec78-6eee621d37fe"
      },
      "source": [
        "chat = Chat(pairs)\n",
        "chat.converse()"
      ],
      "execution_count": null,
      "outputs": [
        {
          "output_type": "stream",
          "text": [
            ">my name is nick\n",
            "hi nick\n",
            ">my name is marlena\n",
            "hi marlena\n"
          ],
          "name": "stdout"
        }
      ]
    }
  ]
}